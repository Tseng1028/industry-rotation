{
 "cells": [
  {
   "cell_type": "code",
   "execution_count": null,
   "metadata": {},
   "outputs": [],
   "source": []
  },
  {
   "cell_type": "code",
   "execution_count": null,
   "metadata": {},
   "outputs": [],
   "source": [
    "# 假設我們已經有了處理好的數據\n",
    "financial_data, cluster_data, returns_data = prepare_data(\n",
    "    financial_data=financial_df,\n",
    "    cluster_data=cluster_df,\n",
    "    returns_data=returns_df\n",
    ")\n",
    "\n",
    "# 創建環境\n",
    "env = IndustryRotationEnvironment(\n",
    "    financial_data=financial_data,\n",
    "    cluster_data=cluster_data,\n",
    "    returns_data=returns_data,\n",
    "    lookback=126  # 半年的交易日數\n",
    ")\n",
    "\n",
    "# 創建智能體\n",
    "input_dims = len(financial_data.columns) + len(cluster_data.columns)\n",
    "n_actions = len(cluster_data.columns)  # 產業分群數量\n",
    "agent = PPOAgent(\n",
    "    input_dims=input_dims,\n",
    "    n_actions=n_actions,\n",
    "    alpha=0.0003,\n",
    "    gamma=0.99,\n",
    "    gae_lambda=0.95,\n",
    "    policy_clip=0.2,\n",
    "    batch_size=64,\n",
    "    n_epochs=10\n",
    ")\n",
    "\n",
    "# 訓練模型\n",
    "scores = train_rotation_model(env, agent, n_episodes=100)\n",
    "\n",
    "# 儲存模型\n",
    "torch.save(agent.actor.state_dict(), 'ppo_actor.pth')\n",
    "torch.save(agent.critic.state_dict(), 'ppo_critic.pth')"
   ]
  }
 ],
 "metadata": {
  "kernelspec": {
   "display_name": "PPORL",
   "language": "python",
   "name": "python3"
  },
  "language_info": {
   "name": "python",
   "version": "3.10.16"
  }
 },
 "nbformat": 4,
 "nbformat_minor": 2
}
